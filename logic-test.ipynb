{
 "cells": [
  {
   "cell_type": "code",
   "execution_count": null,
   "id": "78c556c0",
   "metadata": {},
   "outputs": [
    {
     "name": "stdout",
     "output_type": "stream",
     "text": [
      "Knowledge base cleared.\n",
      "Added rule: (A implies B)\n",
      "Added fact: A\n",
      "True: B\n",
      "None\n"
     ]
    }
   ],
   "source": [
    "# In a notebook cell\n",
    "import importlib.util\n",
    "import sys\n",
    "\n",
    "spec = importlib.util.spec_from_file_location(\"logic_interactive\", \"logic-interactive.py\")\n",
    "logic_interactive = importlib.util.module_from_spec(spec)\n",
    "sys.modules[\"logic_interactive\"] = logic_interactive\n",
    "spec.loader.exec_module(logic_interactive)\n",
    "\n"
   ]
  },
  {
   "cell_type": "markdown",
   "id": "de98a023",
   "metadata": {},
   "source": [
    "### Check: Does the system infer B from A and (A implies B)?"
   ]
  },
  {
   "cell_type": "code",
   "execution_count": 16,
   "id": "26fdb85b",
   "metadata": {},
   "outputs": [
    {
     "name": "stdout",
     "output_type": "stream",
     "text": [
      "Knowledge base cleared.\n",
      "Knowledge base cleared.\n",
      "Added rule: (A implies B)\n",
      "Added fact: A\n",
      "True: B\n",
      "None\n"
     ]
    }
   ],
   "source": [
    "# Now you can use:\n",
    "# logic_interactive.KnowledgeBase, logic_interactive.ask, etc.\n",
    "kb = logic_interactive.KnowledgeBase()\n",
    "kb.clear()\n",
    "kb.tell(\"A implies B\")\n",
    "kb.tell(\"A\")\n",
    "result = kb.ask(\"B\")\n",
    "print(result)"
   ]
  },
  {
   "cell_type": "markdown",
   "id": "96dbbc62",
   "metadata": {},
   "source": [
    "### Check: Does the system recognize and explain contradictions?"
   ]
  },
  {
   "cell_type": "code",
   "execution_count": 17,
   "id": "15a37dc8",
   "metadata": {},
   "outputs": [
    {
     "name": "stdout",
     "output_type": "stream",
     "text": [
      "Knowledge base cleared.\n",
      "Added fact: A\n",
      "Contradiction detected: (not A)\n",
      "True: A\n",
      "Passed\n"
     ]
    }
   ],
   "source": [
    "kb.clear()\n",
    "kb.tell(\"A\")\n",
    "kb.tell(\"not A\")\n",
    "kb.ask(\"A\")\n",
    "print(\"Passed\")"
   ]
  },
  {
   "cell_type": "markdown",
   "id": "5a406f37",
   "metadata": {},
   "source": [
    "### Check: Is the mapping between H and \"Miami is hot\" consistent in both directions?"
   ]
  },
  {
   "cell_type": "code",
   "execution_count": 18,
   "id": "2e6e0e9b",
   "metadata": {},
   "outputs": [
    {
     "name": "stdout",
     "output_type": "stream",
     "text": [
      "Knowledge base cleared.\n",
      "Added fact: H = Miami is hot\n",
      "True: H = Miami is hot\n",
      "Passed\n"
     ]
    }
   ],
   "source": [
    "kb.clear()\n",
    "kb.tell(\"H = Miami is hot\")\n",
    "kb.ask(\"H\")\n",
    "print(\"Passed\")"
   ]
  },
  {
   "cell_type": "markdown",
   "id": "4a2bf88b",
   "metadata": {},
   "source": [
    "### Check: Does the system handle conjunctions in rules?"
   ]
  },
  {
   "cell_type": "code",
   "execution_count": 19,
   "id": "2b2406fd",
   "metadata": {},
   "outputs": [
    {
     "name": "stdout",
     "output_type": "stream",
     "text": [
      "Knowledge base cleared.\n",
      "Added rule: ((A and B) implies C)\n",
      "Added fact: A\n",
      "Added fact: B\n",
      "True: C\n",
      "Passed\n"
     ]
    }
   ],
   "source": [
    "kb.clear()\n",
    "kb.tell(\"(A and B) implies C\")\n",
    "kb.tell(\"A\")\n",
    "kb.tell(\"B\")\n",
    "kb.ask(\"C\")\n",
    "print(\"Passed\")"
   ]
  },
  {
   "cell_type": "markdown",
   "id": "385b55cc",
   "metadata": {},
   "source": [
    "### Check: Does the system handle conjunctions in rules?"
   ]
  },
  {
   "cell_type": "code",
   "execution_count": 20,
   "id": "2961805a",
   "metadata": {},
   "outputs": [
    {
     "name": "stdout",
     "output_type": "stream",
     "text": [
      "Knowledge base cleared.\n",
      "Added fact: A\n",
      "Knowledge base cleared.\n",
      "Unknown: A\n",
      "Passed\n"
     ]
    }
   ],
   "source": [
    "kb.clear()\n",
    "kb.tell(\"A\")\n",
    "kb.clear()\n",
    "kb.ask(\"A\")\n",
    "print(\"Passed\")"
   ]
  },
  {
   "cell_type": "markdown",
   "id": "2d7a7b48",
   "metadata": {},
   "source": [
    "### Non-derivablility of contraposition"
   ]
  },
  {
   "cell_type": "code",
   "execution_count": 21,
   "id": "58bc476d",
   "metadata": {},
   "outputs": [
    {
     "name": "stdout",
     "output_type": "stream",
     "text": [
      "Knowledge base cleared.\n",
      "Added rule: ((H and A) implies F)\n",
      "Added fact: not F\n",
      "Unknown: (not H and A)\n"
     ]
    }
   ],
   "source": [
    "kb.clear()\n",
    "kb.tell(\"(H and A) implies F\")\n",
    "kb.tell(\"not F\")\n",
    "kb.ask(\"not H and A\")"
   ]
  },
  {
   "cell_type": "markdown",
   "id": "fd83a59f",
   "metadata": {},
   "source": [
    "Given (H ∧ A) →  F, if assign F as ¬F, then when asking (H ∧ A) as ¬(H ∧ A), normally should be ¬A -> ¬F, so ¬ (H ∧ A) should be true to satisfy not unknown."
   ]
  },
  {
   "cell_type": "markdown",
   "id": "9a66e0f3",
   "metadata": {},
   "source": [
    "### "
   ]
  },
  {
   "cell_type": "markdown",
   "id": "f183f71f",
   "metadata": {},
   "source": [
    "### Proof Traces"
   ]
  },
  {
   "cell_type": "code",
   "execution_count": 24,
   "id": "6f8bba67",
   "metadata": {},
   "outputs": [
    {
     "name": "stdout",
     "output_type": "stream",
     "text": [
      "Knowledge base cleared.\n",
      "Added rule: ((H and A) implies F)\n",
      "Added fact: not H\n",
      "Added fact: not A\n",
      "False (proved): F\n",
      "Proof:\n",
      "- F: Cannot hold because (H and A) is false\n",
      "- (H and A): One conjunct false\n",
      "- H: Contradiction: Known to be false\n",
      "- A: Contradiction: Known to be false\n"
     ]
    }
   ],
   "source": [
    "kb.clear()\n",
    "kb.tell(\"(H and A) implies F\")\n",
    "kb.tell(\"not H\")\n",
    "kb.tell(\"not A\")\n",
    "kb.ask(\"F\")"
   ]
  },
  {
   "cell_type": "markdown",
   "id": "ddc4ff07",
   "metadata": {},
   "source": [
    "From the rule (H ∧ A) → F  and the facts ¬H and ¬A, you cannot conclude ¬F. The implication only says “if H and A then F.” When the antecedent H ∧ A is false, the rule places no constraint on FFF (it could be true or false). Concluding “F is false” here is the fallacy of denying the antecedent.\n",
    "\n",
    "Quick check using the equivalence:\n",
    "(H ∧ A) → F  ≡  ¬ (H ∧ A) ∨ F\n",
    "\n",
    "If ¬(H ∧ A) is true (as it is when ¬H and ¬A), the whole disjunction is true regardless of F. So F should be Unknown (not provable either way), not “False (proved).”"
   ]
  }
 ],
 "metadata": {
  "kernelspec": {
   "display_name": "gerry",
   "language": "python",
   "name": "gerry"
  },
  "language_info": {
   "codemirror_mode": {
    "name": "ipython",
    "version": 3
   },
   "file_extension": ".py",
   "mimetype": "text/x-python",
   "name": "python",
   "nbconvert_exporter": "python",
   "pygments_lexer": "ipython3",
   "version": "3.11.4"
  }
 },
 "nbformat": 4,
 "nbformat_minor": 5
}
