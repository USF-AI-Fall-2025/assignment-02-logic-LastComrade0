{
 "cells": [
  {
   "cell_type": "code",
   "execution_count": null,
   "id": "78c556c0",
   "metadata": {},
   "outputs": [
    {
     "name": "stdout",
     "output_type": "stream",
     "text": [
      "Knowledge base cleared.\n",
      "Added rule: (A implies B)\n",
      "Added fact: A\n",
      "True: B\n",
      "None\n"
     ]
    }
   ],
   "source": [
    "# In a notebook cell\n",
    "import importlib.util\n",
    "import sys\n",
    "\n",
    "spec = importlib.util.spec_from_file_location(\"logic_interactive\", \"logic-interactive.py\")\n",
    "logic_interactive = importlib.util.module_from_spec(spec)\n",
    "sys.modules[\"logic_interactive\"] = logic_interactive\n",
    "spec.loader.exec_module(logic_interactive)\n",
    "\n"
   ]
  },
  {
   "cell_type": "code",
   "execution_count": 11,
   "id": "26fdb85b",
   "metadata": {},
   "outputs": [
    {
     "name": "stdout",
     "output_type": "stream",
     "text": [
      "Knowledge base cleared.\n",
      "Knowledge base cleared.\n",
      "Added rule: (A implies B)\n",
      "Added fact: A\n",
      "True: B\n",
      "None\n"
     ]
    }
   ],
   "source": [
    "# Now you can use:\n",
    "# logic_interactive.KnowledgeBase, logic_interactive.ask, etc.\n",
    "kb = logic_interactive.KnowledgeBase()\n",
    "kb.clear()\n",
    "kb.tell(\"A implies B\")\n",
    "kb.tell(\"A\")\n",
    "result = kb.ask(\"B\")\n",
    "print(result)"
   ]
  },
  {
   "cell_type": "code",
   "execution_count": 12,
   "id": "15a37dc8",
   "metadata": {},
   "outputs": [
    {
     "name": "stdout",
     "output_type": "stream",
     "text": [
      "Knowledge base cleared.\n",
      "Added fact: A\n",
      "Contradiction detected: (not A)\n",
      "True: A\n"
     ]
    }
   ],
   "source": [
    "kb.clear()\n",
    "kb.tell(\"A\")\n",
    "kb.tell(\"not A\")\n",
    "kb.ask(\"A\")"
   ]
  }
 ],
 "metadata": {
  "kernelspec": {
   "display_name": "gerry",
   "language": "python",
   "name": "gerry"
  },
  "language_info": {
   "codemirror_mode": {
    "name": "ipython",
    "version": 3
   },
   "file_extension": ".py",
   "mimetype": "text/x-python",
   "name": "python",
   "nbconvert_exporter": "python",
   "pygments_lexer": "ipython3",
   "version": "3.11.4"
  }
 },
 "nbformat": 4,
 "nbformat_minor": 5
}
